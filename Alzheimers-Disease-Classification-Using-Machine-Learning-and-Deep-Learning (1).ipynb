{
  "cells": [
    {
      "cell_type": "code",
      "execution_count": 4,
      "metadata": {
        "colab": {
          "base_uri": "https://localhost:8080/"
        },
        "id": "VvdlOmch97QA",
        "outputId": "cd008c37-7737-4ea9-cc4c-5e9cc561d0d9"
      },
      "outputs": [
        {
          "name": "stdout",
          "output_type": "stream",
          "text": [
            "Mounted at /content/drive\n"
          ]
        }
      ],
      "source": [
        "# Mount Google Drive\n",
        "from google.colab import drive\n",
        "drive.mount('/content/drive')\n"
      ]
    },
    {
      "cell_type": "code",
      "execution_count": 1,
      "metadata": {},
      "outputs": [],
      "source": [
        "# ================== Core Python ==================\n",
        "import os\n",
        "import shutil\n",
        "\n",
        "# ================== Image and Data Handling ==================\n",
        "from PIL import Image\n",
        "\n",
        "# ================== PyTorch ==================\n",
        "import torch\n",
        "import torch.nn as nn\n",
        "import torch.optim as optim\n",
        "from torch.utils.data import DataLoader\n",
        "from torchvision.datasets import ImageFolder\n",
        "from torchvision import transforms\n",
        "from torchvision.utils import save_image\n",
        "\n",
        "# ================== Visualization ==================\n",
        "import matplotlib.pyplot as plt\n",
        "\n",
        "# ================== Utilities ==================\n",
        "from tqdm import tqdm, trange\n",
        "from tqdm.auto import tqdm as auto_tqdm\n",
        "\n",
        "# ================== Data Science ==================\n",
        "import numpy as np\n",
        "import pandas as pd\n",
        "\n",
        "# ================== Sklearn ==================\n",
        "from sklearn.linear_model import LogisticRegression, SGDClassifier\n",
        "from sklearn.ensemble import RandomForestClassifier, VotingClassifier\n",
        "from sklearn.decomposition import PCA\n",
        "from sklearn.metrics import accuracy_score, f1_score, classification_report, confusion_matrix\n",
        "from sklearn.preprocessing import StandardScaler\n",
        "from sklearn.pipeline import make_pipeline\n"
      ]
    },
    {
      "cell_type": "code",
      "execution_count": null,
      "metadata": {
        "colab": {
          "base_uri": "https://localhost:8080/"
        },
        "id": "imHaplbW-GKZ",
        "outputId": "f1d535ac-dc26-4a2d-e59f-e7fba445d689"
      },
      "outputs": [
        {
          "name": "stderr",
          "output_type": "stream",
          "text": [
            "Preprocessing /content/drive/MyDrive/Alzheimer_Dataset/train: 100%|██████████| 10240/10240 [48:12<00:00,  3.54it/s]\n",
            "Preprocessing /content/drive/MyDrive/Alzheimer_Dataset/test: 100%|██████████| 1279/1279 [07:18<00:00,  2.91it/s]\n"
          ]
        }
      ],
      "source": [
        "# Paths\n",
        "original_train = '/content/drive/MyDrive/Alzheimer_Dataset/train'\n",
        "original_test = '/content/drive/MyDrive/Alzheimer_Dataset/test'\n",
        "processed_train = '/content/processed/train'\n",
        "processed_test = '/content/processed/test'\n",
        "\n",
        "# Transform to resize + normalize\n",
        "transform = transforms.Compose([\n",
        "    transforms.Resize((128, 128)),\n",
        "    transforms.ToTensor(),\n",
        "    transforms.Normalize([0.5]*3, [0.5]*3)\n",
        "])\n",
        "\n",
        "def preprocess_and_save(input_path, output_path):\n",
        "    dataset = ImageFolder(input_path)\n",
        "    os.makedirs(output_path, exist_ok=True)\n",
        "\n",
        "    for class_name in dataset.classes:\n",
        "        os.makedirs(os.path.join(output_path, class_name), exist_ok=True)\n",
        "\n",
        "    for img_path, label in tqdm(dataset.samples, desc=f\"Preprocessing {input_path}\"):\n",
        "        image = Image.open(img_path).convert('RGB')\n",
        "        tensor_img = transform(image)\n",
        "        class_name = dataset.classes[label]\n",
        "        save_path = os.path.join(output_path, class_name, os.path.basename(img_path))\n",
        "        save_image(tensor_img, save_path)\n",
        "\n",
        "# Preprocess train and test\n",
        "preprocess_and_save(original_train, processed_train)\n",
        "preprocess_and_save(original_test, processed_test)\n"
      ]
    },
    {
      "cell_type": "code",
      "execution_count": null,
      "metadata": {
        "colab": {
          "base_uri": "https://localhost:8080/"
        },
        "id": "SagFuu-L-bb1",
        "outputId": "439513e6-7bde-4acf-d65f-2c00ac58c801"
      },
      "outputs": [
        {
          "name": "stdout",
          "output_type": "stream",
          "text": [
            "Classes: ['Mild Impairment', 'Moderate Impairment', 'No Impairment', 'Very Mild Impairment']\n"
          ]
        }
      ],
      "source": [
        "train_dataset = ImageFolder(processed_train, transform=transforms.ToTensor())\n",
        "test_dataset = ImageFolder(processed_test, transform=transforms.ToTensor())\n",
        "\n",
        "train_loader = DataLoader(train_dataset, batch_size=32, shuffle=True, num_workers=2, pin_memory=True)\n",
        "test_loader = DataLoader(test_dataset, batch_size=32, shuffle=False, num_workers=2, pin_memory=True)\n",
        "\n",
        "class_names = train_dataset.classes\n",
        "print(\"Classes:\", class_names)\n"
      ]
    },
    {
      "cell_type": "code",
      "execution_count": null,
      "metadata": {
        "id": "8rEkqxt2-fqM"
      },
      "outputs": [],
      "source": [
        "class AlzheimerCNN(nn.Module):\n",
        "    def __init__(self, num_classes):\n",
        "        super(AlzheimerCNN, self).__init__()\n",
        "        self.features = nn.Sequential(\n",
        "            nn.Conv2d(3, 32, 3, padding=1), nn.BatchNorm2d(32), nn.ReLU(), nn.MaxPool2d(2),\n",
        "            nn.Conv2d(32, 64, 3, padding=1), nn.BatchNorm2d(64), nn.ReLU(), nn.MaxPool2d(2),\n",
        "            nn.Conv2d(64, 128, 3, padding=1), nn.BatchNorm2d(128), nn.ReLU(), nn.MaxPool2d(2),\n",
        "            nn.Conv2d(128, 256, 3, padding=1), nn.BatchNorm2d(256), nn.ReLU(), nn.MaxPool2d(2),\n",
        "        )\n",
        "        self.classifier = nn.Sequential(\n",
        "            nn.Dropout(0.5),\n",
        "            nn.Linear(256 * 8 * 8, 512),\n",
        "            nn.ReLU(),\n",
        "            nn.Dropout(0.3),\n",
        "            nn.Linear(512, num_classes)\n",
        "        )\n",
        "\n",
        "    def forward(self, x):\n",
        "        x = self.features(x)\n",
        "        x = x.view(x.size(0), -1)\n",
        "        return self.classifier(x)\n",
        "\n",
        "device = torch.device(\"cuda\" if torch.cuda.is_available() else \"cpu\")\n",
        "model = AlzheimerCNN(num_classes=len(class_names)).to(device)\n"
      ]
    },
    {
      "cell_type": "code",
      "execution_count": null,
      "metadata": {
        "colab": {
          "base_uri": "https://localhost:8080/"
        },
        "id": "ncXvWEfG-ijA",
        "outputId": "deb767c7-8152-43d2-8956-f66d19eeadd8"
      },
      "outputs": [
        {
          "name": "stdout",
          "output_type": "stream",
          "text": [
            "cuda\n"
          ]
        }
      ],
      "source": [
        "print(device)"
      ]
    },
    {
      "cell_type": "code",
      "execution_count": null,
      "metadata": {
        "id": "PuNWbYO5-k3p"
      },
      "outputs": [],
      "source": [
        "criterion = nn.CrossEntropyLoss()\n",
        "optimizer = optim.Adam(model.parameters(), lr=1e-4)\n",
        "num_epochs = 25\n",
        "best_model_path = '/content/best_alz_model.pth'\n",
        "patience = 4\n",
        "best_val_loss = float('inf')\n",
        "early_stop_counter = 0\n"
      ]
    },
    {
      "cell_type": "code",
      "execution_count": null,
      "metadata": {
        "colab": {
          "base_uri": "https://localhost:8080/"
        },
        "id": "nqNTASC_-m6V",
        "outputId": "00387d21-5ca1-4a4b-af88-8d2d57fb7621"
      },
      "outputs": [
        {
          "name": "stderr",
          "output_type": "stream",
          "text": [
            "Epoch [1/25] Training: 100%|██████████| 320/320 [00:11<00:00, 28.44it/s, Loss=0.42, Acc=69.21%]\n",
            "Epoch [1/25] Validation: 100%|██████████| 40/40 [00:00<00:00, 40.61it/s, Loss=0.775, Acc=66.85%]\n"
          ]
        },
        {
          "name": "stdout",
          "output_type": "stream",
          "text": [
            "\n",
            "Summary Epoch 1: Train Loss=0.7134, Val Loss=0.7400\n",
            "✔️ Saved best model.\n"
          ]
        },
        {
          "name": "stderr",
          "output_type": "stream",
          "text": [
            "Epoch [2/25] Training: 100%|██████████| 320/320 [00:10<00:00, 29.12it/s, Loss=0.314, Acc=82.82%]\n",
            "Epoch [2/25] Validation: 100%|██████████| 40/40 [00:00<00:00, 43.02it/s, Loss=0.369, Acc=72.01%]\n"
          ]
        },
        {
          "name": "stdout",
          "output_type": "stream",
          "text": [
            "\n",
            "Summary Epoch 2: Train Loss=0.4106, Val Loss=0.6051\n",
            "✔️ Saved best model.\n"
          ]
        },
        {
          "name": "stderr",
          "output_type": "stream",
          "text": [
            "Epoch [3/25] Training: 100%|██████████| 320/320 [00:10<00:00, 31.01it/s, Loss=0.398, Acc=88.32%]\n",
            "Epoch [3/25] Validation: 100%|██████████| 40/40 [00:00<00:00, 43.03it/s, Loss=0.21, Acc=76.00%]\n"
          ]
        },
        {
          "name": "stdout",
          "output_type": "stream",
          "text": [
            "\n",
            "Summary Epoch 3: Train Loss=0.2902, Val Loss=0.5018\n",
            "✔️ Saved best model.\n"
          ]
        },
        {
          "name": "stderr",
          "output_type": "stream",
          "text": [
            "Epoch [4/25] Training: 100%|██████████| 320/320 [00:13<00:00, 23.60it/s, Loss=0.0689, Acc=92.70%]\n",
            "Epoch [4/25] Validation: 100%|██████████| 40/40 [00:01<00:00, 27.98it/s, Loss=0.794, Acc=81.39%]\n"
          ]
        },
        {
          "name": "stdout",
          "output_type": "stream",
          "text": [
            "\n",
            "Summary Epoch 4: Train Loss=0.1943, Val Loss=0.4130\n",
            "✔️ Saved best model.\n"
          ]
        },
        {
          "name": "stderr",
          "output_type": "stream",
          "text": [
            "Epoch [5/25] Training: 100%|██████████| 320/320 [00:16<00:00, 19.70it/s, Loss=0.0763, Acc=94.85%]\n",
            "Epoch [5/25] Validation: 100%|██████████| 40/40 [00:01<00:00, 32.77it/s, Loss=0.695, Acc=83.35%]\n"
          ]
        },
        {
          "name": "stdout",
          "output_type": "stream",
          "text": [
            "\n",
            "Summary Epoch 5: Train Loss=0.1451, Val Loss=0.3583\n",
            "✔️ Saved best model.\n"
          ]
        },
        {
          "name": "stderr",
          "output_type": "stream",
          "text": [
            "Epoch [6/25] Training: 100%|██████████| 320/320 [00:10<00:00, 29.97it/s, Loss=0.176, Acc=96.33%]\n",
            "Epoch [6/25] Validation: 100%|██████████| 40/40 [00:00<00:00, 41.71it/s, Loss=0.117, Acc=92.57%]\n"
          ]
        },
        {
          "name": "stdout",
          "output_type": "stream",
          "text": [
            "\n",
            "Summary Epoch 6: Train Loss=0.1020, Val Loss=0.2019\n",
            "✔️ Saved best model.\n"
          ]
        },
        {
          "name": "stderr",
          "output_type": "stream",
          "text": [
            "Epoch [7/25] Training: 100%|██████████| 320/320 [00:10<00:00, 30.24it/s, Loss=0.057, Acc=96.65%]\n",
            "Epoch [7/25] Validation: 100%|██████████| 40/40 [00:00<00:00, 43.88it/s, Loss=0.116, Acc=95.93%]\n"
          ]
        },
        {
          "name": "stdout",
          "output_type": "stream",
          "text": [
            "\n",
            "Summary Epoch 7: Train Loss=0.0917, Val Loss=0.1329\n",
            "✔️ Saved best model.\n"
          ]
        },
        {
          "name": "stderr",
          "output_type": "stream",
          "text": [
            "Epoch [8/25] Training: 100%|██████████| 320/320 [00:10<00:00, 30.52it/s, Loss=0.00555, Acc=97.71%]\n",
            "Epoch [8/25] Validation: 100%|██████████| 40/40 [00:00<00:00, 43.51it/s, Loss=0.488, Acc=91.87%]\n"
          ]
        },
        {
          "name": "stdout",
          "output_type": "stream",
          "text": [
            "\n",
            "Summary Epoch 8: Train Loss=0.0666, Val Loss=0.2217\n"
          ]
        },
        {
          "name": "stderr",
          "output_type": "stream",
          "text": [
            "Epoch [9/25] Training: 100%|██████████| 320/320 [00:09<00:00, 32.01it/s, Loss=0.0474, Acc=98.28%]\n",
            "Epoch [9/25] Validation: 100%|██████████| 40/40 [00:01<00:00, 28.22it/s, Loss=0.195, Acc=96.33%]\n"
          ]
        },
        {
          "name": "stdout",
          "output_type": "stream",
          "text": [
            "\n",
            "Summary Epoch 9: Train Loss=0.0503, Val Loss=0.1136\n",
            "✔️ Saved best model.\n"
          ]
        },
        {
          "name": "stderr",
          "output_type": "stream",
          "text": [
            "Epoch [10/25] Training: 100%|██████████| 320/320 [00:09<00:00, 33.00it/s, Loss=0.0671, Acc=98.31%]\n",
            "Epoch [10/25] Validation: 100%|██████████| 40/40 [00:01<00:00, 30.69it/s, Loss=0.188, Acc=96.01%]\n"
          ]
        },
        {
          "name": "stdout",
          "output_type": "stream",
          "text": [
            "\n",
            "Summary Epoch 10: Train Loss=0.0480, Val Loss=0.1193\n"
          ]
        },
        {
          "name": "stderr",
          "output_type": "stream",
          "text": [
            "Epoch [11/25] Training: 100%|██████████| 320/320 [00:11<00:00, 28.58it/s, Loss=0.0104, Acc=98.40%]\n",
            "Epoch [11/25] Validation: 100%|██████████| 40/40 [00:00<00:00, 40.15it/s, Loss=0.209, Acc=92.89%]\n"
          ]
        },
        {
          "name": "stdout",
          "output_type": "stream",
          "text": [
            "\n",
            "Summary Epoch 11: Train Loss=0.0467, Val Loss=0.1798\n"
          ]
        },
        {
          "name": "stderr",
          "output_type": "stream",
          "text": [
            "Epoch [12/25] Training: 100%|██████████| 320/320 [00:10<00:00, 30.45it/s, Loss=0.0388, Acc=98.35%]\n",
            "Epoch [12/25] Validation: 100%|██████████| 40/40 [00:00<00:00, 42.05it/s, Loss=0.184, Acc=93.98%]\n"
          ]
        },
        {
          "name": "stdout",
          "output_type": "stream",
          "text": [
            "\n",
            "Summary Epoch 12: Train Loss=0.0457, Val Loss=0.1553\n"
          ]
        },
        {
          "name": "stderr",
          "output_type": "stream",
          "text": [
            "Epoch [13/25] Training: 100%|██████████| 320/320 [00:10<00:00, 29.94it/s, Loss=0.0469, Acc=98.58%]\n",
            "Epoch [13/25] Validation: 100%|██████████| 40/40 [00:00<00:00, 42.62it/s, Loss=0.536, Acc=88.82%]"
          ]
        },
        {
          "name": "stdout",
          "output_type": "stream",
          "text": [
            "\n",
            "Summary Epoch 13: Train Loss=0.0434, Val Loss=0.2974\n",
            "⏹️ Early stopping.\n"
          ]
        },
        {
          "name": "stderr",
          "output_type": "stream",
          "text": [
            "\n"
          ]
        }
      ],
      "source": [
        "for epoch in range(num_epochs):\n",
        "    model.train()\n",
        "    train_loss, correct, total = 0, 0, 0\n",
        "    train_loader_tqdm = tqdm(train_loader, desc=f\"Epoch [{epoch+1}/{num_epochs}] Training\")\n",
        "\n",
        "    for images, labels in train_loader_tqdm:\n",
        "        images, labels = images.to(device), labels.to(device)\n",
        "        optimizer.zero_grad()\n",
        "        outputs = model(images)\n",
        "        loss = criterion(outputs, labels)\n",
        "        loss.backward()\n",
        "        optimizer.step()\n",
        "\n",
        "        train_loss += loss.item()\n",
        "        _, predicted = outputs.max(1)\n",
        "        total += labels.size(0)\n",
        "        correct += predicted.eq(labels).sum().item()\n",
        "\n",
        "        train_loader_tqdm.set_postfix({'Loss': loss.item(), 'Acc': f'{100 * correct / total:.2f}%'})\n",
        "\n",
        "    model.eval()\n",
        "    val_loss, correct, total = 0, 0, 0\n",
        "    val_loader_tqdm = tqdm(test_loader, desc=f\"Epoch [{epoch+1}/{num_epochs}] Validation\")\n",
        "\n",
        "    with torch.no_grad():\n",
        "        for images, labels in val_loader_tqdm:\n",
        "            images, labels = images.to(device), labels.to(device)\n",
        "            outputs = model(images)\n",
        "            loss = criterion(outputs, labels)\n",
        "\n",
        "            val_loss += loss.item()\n",
        "            _, predicted = outputs.max(1)\n",
        "            total += labels.size(0)\n",
        "            correct += predicted.eq(labels).sum().item()\n",
        "\n",
        "            val_loader_tqdm.set_postfix({'Loss': loss.item(), 'Acc': f'{100 * correct / total:.2f}%'})\n",
        "\n",
        "    train_acc = 100 * correct / len(train_dataset)\n",
        "    val_acc = 100 * correct / len(test_dataset)\n",
        "    avg_train_loss = train_loss / len(train_loader)\n",
        "    avg_val_loss = val_loss / len(test_loader)\n",
        "\n",
        "    print(f\"\\nSummary Epoch {epoch+1}: Train Loss={avg_train_loss:.4f}, Val Loss={avg_val_loss:.4f}\")\n",
        "\n",
        "    if avg_val_loss < best_val_loss:\n",
        "        best_val_loss = avg_val_loss\n",
        "        early_stop_counter = 0\n",
        "        torch.save(model.state_dict(), best_model_path)\n",
        "        print(\"✔️ Saved best model.\")\n",
        "    else:\n",
        "        early_stop_counter += 1\n",
        "        if early_stop_counter >= patience:\n",
        "            print(\"⏹️ Early stopping.\")\n",
        "            break\n"
      ]
    },
    {
      "cell_type": "code",
      "execution_count": null,
      "metadata": {
        "colab": {
          "base_uri": "https://localhost:8080/",
          "height": 798
        },
        "id": "Ft7BJhaa-u5e",
        "outputId": "ab7ab5d0-628b-4277-8ea0-ca339b76dd60"
      },
      "outputs": [
        {
          "name": "stdout",
          "output_type": "stream",
          "text": [
            "                      precision    recall  f1-score   support\n",
            "\n",
            "     Mild Impairment       0.96      0.99      0.97       179\n",
            " Moderate Impairment       1.00      0.92      0.96        12\n",
            "       No Impairment       0.96      0.98      0.97       640\n",
            "Very Mild Impairment       0.97      0.93      0.95       448\n",
            "\n",
            "            accuracy                           0.96      1279\n",
            "           macro avg       0.97      0.95      0.96      1279\n",
            "        weighted avg       0.96      0.96      0.96      1279\n",
            "\n"
          ]
        },
        {
          "data": {
            "image/png": "[encoded data removed]",
            "text/plain": [
              "<Figure size 800x600 with 1 Axes>"
            ]
          },
          "metadata": {},
          "output_type": "display_data"
        }
      ],
      "source": [
        "# Load best model\n",
        "model.load_state_dict(torch.load(best_model_path))\n",
        "model.eval()\n",
        "\n",
        "all_preds, all_labels = [], []\n",
        "with torch.no_grad():\n",
        "    for images, labels in test_loader:\n",
        "        images = images.to(device)\n",
        "        outputs = model(images)\n",
        "        _, preds = torch.max(outputs, 1)\n",
        "        all_preds.extend(preds.cpu().numpy())\n",
        "        all_labels.extend(labels.numpy())\n",
        "\n",
        "print(classification_report(all_labels, all_preds, target_names=class_names))\n",
        "\n",
        "# Confusion matrix\n",
        "cm = confusion_matrix(all_labels, all_preds)\n",
        "plt.figure(figsize=(8,6))\n",
        "plt.imshow(cm, cmap='Blues')\n",
        "plt.title('Confusion Matrix')\n",
        "plt.xticks(np.arange(len(class_names)), class_names, rotation=45)\n",
        "plt.yticks(np.arange(len(class_names)), class_names)\n",
        "for i in range(len(class_names)):\n",
        "    for j in range(len(class_names)):\n",
        "        plt.text(j, i, str(cm[i][j]), ha='center', va='center')\n",
        "plt.xlabel('Predicted')\n",
        "plt.ylabel('True')\n",
        "plt.tight_layout()\n",
        "plt.show()\n"
      ]
    },
    {
      "cell_type": "code",
      "execution_count": 19,
      "metadata": {},
      "outputs": [],
      "source": [
        "cnn_accs = [0.96]\n",
        "cnn_f1s = [0.96]\n"
      ]
    },
    {
      "cell_type": "code",
      "execution_count": null,
      "metadata": {
        "id": "KBFnPtkFOsEZ"
      },
      "outputs": [],
      "source": [
        "torch.save(model.state_dict(), 'alz_model_weights.pth')\n"
      ]
    },
    {
      "cell_type": "code",
      "execution_count": null,
      "metadata": {
        "colab": {
          "base_uri": "https://localhost:8080/",
          "height": 35
        },
        "id": "rRBg2dDEO3UX",
        "outputId": "7614039f-fea8-4485-c6e4-9b5b644959a7"
      },
      "outputs": [
        {
          "data": {
            "application/vnd.google.colaboratory.intrinsic+json": {
              "type": "string"
            },
            "text/plain": [
              "'/content/processed_images.zip'"
            ]
          },
          "execution_count": 13,
          "metadata": {},
          "output_type": "execute_result"
        }
      ],
      "source": [
        "# Folder you want to zip\n",
        "folder_to_zip = \"/content/processed\"\n",
        "\n",
        "# Output zip file name\n",
        "zip_output = \"/content/processed_images.zip\"\n",
        "\n",
        "# Create zip archive\n",
        "shutil.make_archive(base_name=zip_output.replace(\".zip\", \"\"), format='zip', root_dir=folder_to_zip)\n",
        "\n",
        "\n"
      ]
    },
    {
      "cell_type": "code",
      "execution_count": 4,
      "metadata": {
        "colab": {
          "base_uri": "https://localhost:8080/",
          "height": 211
        },
        "id": "0D-901LgWTD7",
        "outputId": "f2944f69-20a8-4d91-8cc7-0b3f38273976"
      },
      "outputs": [
        {
          "name": "stdout",
          "output_type": "stream",
          "text": [
            "✅ Loaded preprocessed image data.\n"
          ]
        }
      ],
      "source": [
        "# Load processed images\n",
        "data_transform = transforms.ToTensor()\n",
        "\n",
        "train_dataset = ImageFolder(r\"C:\\Users\\samyo\\Downloads\\processed_images\\train\", transform=data_transform)\n",
        "test_dataset = ImageFolder(r\"C:\\Users\\samyo\\Downloads\\processed_images\\test\", transform=data_transform)\n",
        "\n",
        "train_loader = DataLoader(train_dataset, batch_size=len(train_dataset), shuffle=False)\n",
        "test_loader = DataLoader(test_dataset, batch_size=len(test_dataset), shuffle=False)\n",
        "\n",
        "def get_numpy_data(loader):\n",
        "    for imgs, labels in loader:\n",
        "        X = imgs.view(imgs.size(0), -1).numpy()\n",
        "        y = labels.numpy()\n",
        "        return X, y\n",
        "\n",
        "X_train, y_train = get_numpy_data(train_loader)\n",
        "X_test, y_test = get_numpy_data(test_loader)\n",
        "\n",
        "print(\"✅ Loaded preprocessed image data.\")\n"
      ]
    },
    {
      "cell_type": "code",
      "execution_count": null,
      "metadata": {
        "colab": {
          "base_uri": "https://localhost:8080/",
          "height": 245
        },
        "id": "XrkdUCaobchN",
        "outputId": "d37668c9-e870-4496-a395-5cc0c25557e1"
      },
      "outputs": [
        {
          "name": "stdout",
          "output_type": "stream",
          "text": [
            "🔁 Training SGDClassifier (Logistic Regression Style)\n"
          ]
        },
        {
          "name": "stderr",
          "output_type": "stream",
          "text": [
            "Epochs: 100%|██████████| 10/10 [01:28<00:00,  8.90s/it]"
          ]
        },
        {
          "name": "stdout",
          "output_type": "stream",
          "text": [
            "\n",
            "✅ Logistic Regression (SGDClassifier) Accuracy: 0.8788\n",
            "✅ Logistic Regression (SGDClassifier) F1 Score: 0.8617\n"
          ]
        },
        {
          "name": "stderr",
          "output_type": "stream",
          "text": [
            "\n"
          ]
        }
      ],
      "source": [
        "print(\"🔁 Training SGDClassifier (Logistic Regression Style)\")\n",
        "\n",
        "sgd = SGDClassifier(loss='log_loss')  # 'log_loss' ≈ logistic regression\n",
        "epochs = 10\n",
        "batch_size = 2048\n",
        "n_train = X_train.shape[0]\n",
        "\n",
        "train_accuracies, val_accuracies = [], []\n",
        "\n",
        "for epoch in trange(epochs, desc=\"Epochs\"):\n",
        "    indices = np.random.permutation(n_train)\n",
        "    X_train_shuffled = X_train[indices]\n",
        "    y_train_shuffled = y_train[indices]\n",
        "\n",
        "    for i in range(0, n_train, batch_size):\n",
        "        X_batch = X_train_shuffled[i:i + batch_size]\n",
        "        y_batch = y_train_shuffled[i:i + batch_size]\n",
        "\n",
        "        if epoch == 0 and i == 0:\n",
        "            sgd.partial_fit(X_batch, y_batch, classes=np.unique(y_train))\n",
        "        else:\n",
        "            sgd.partial_fit(X_batch, y_batch)\n",
        "\n",
        "    y_pred_epoch = sgd.predict(X_test)\n",
        "    acc = accuracy_score(y_test, y_pred_epoch)\n",
        "    f1 = f1_score(y_test, y_pred_epoch, average='macro')\n",
        "\n",
        "    train_accuracies.append(acc)\n",
        "    val_accuracies.append(f1)\n",
        "\n",
        "# Final evaluation\n",
        "y_pred_final = sgd.predict(X_test)\n",
        "log_acc = accuracy_score(y_test, y_pred_final)\n",
        "log_f1 = f1_score(y_test, y_pred_final, average='macro')\n",
        "\n",
        "print(f\"\\n✅ Logistic Regression (SGDClassifier) Accuracy: {log_acc:.4f}\")\n",
        "print(f\"✅ Logistic Regression (SGDClassifier) F1 Score: {log_f1:.4f}\")\n"
      ]
    },
    {
      "cell_type": "code",
      "execution_count": null,
      "metadata": {},
      "outputs": [
        {
          "name": "stdout",
          "output_type": "stream",
          "text": [
            "🌲 Training Random Forest...\n"
          ]
        },
        {
          "name": "stderr",
          "output_type": "stream",
          "text": [
            "Epochs: 100%|██████████| 1/1 [02:41<00:00, 161.66s/it]"
          ]
        },
        {
          "name": "stdout",
          "output_type": "stream",
          "text": [
            "\n",
            "✅ Final Random Forest Accuracy: 0.9109\n",
            "✅ Final Random Forest F1 Score: 0.8768\n"
          ]
        },
        {
          "name": "stderr",
          "output_type": "stream",
          "text": [
            "\n"
          ]
        }
      ],
      "source": [
        "rf_epochs = 1  # training happens once\n",
        "rf_accs, rf_f1s = [], []\n",
        "\n",
        "print(\"🌲 Training Random Forest...\")\n",
        "\n",
        "for epoch in trange(rf_epochs, desc=\"Epochs\"):\n",
        "    rf = RandomForestClassifier(n_estimators=100)\n",
        "    rf.fit(X_train, y_train)\n",
        "    \n",
        "    y_pred = rf.predict(X_test)\n",
        "    acc = accuracy_score(y_test, y_pred)\n",
        "    f1 = f1_score(y_test, y_pred, average='macro')\n",
        "    rf_accs.append(acc)\n",
        "    rf_f1s.append(f1)\n",
        "\n",
        "print(f\"\\n✅ Final Random Forest Accuracy: {rf_accs[-1]:.4f}\")\n",
        "print(f\"✅ Final Random Forest F1 Score: {rf_f1s[-1]:.4f}\")\n"
      ]
    },
    {
      "cell_type": "code",
      "execution_count": null,
      "metadata": {},
      "outputs": [
        {
          "name": "stdout",
          "output_type": "stream",
          "text": [
            "🔄 Training PCA + Logistic Regression...\n"
          ]
        },
        {
          "name": "stderr",
          "output_type": "stream",
          "text": [
            "Epochs: 100%|██████████| 5/5 [03:09<00:00, 37.86s/it]"
          ]
        },
        {
          "name": "stdout",
          "output_type": "stream",
          "text": [
            "\n",
            "✅ Final PCA + Logistic Accuracy: 0.6169\n",
            "✅ Final PCA + Logistic F1 Score: 0.6855\n"
          ]
        },
        {
          "name": "stderr",
          "output_type": "stream",
          "text": [
            "\n"
          ]
        }
      ],
      "source": [
        "pca_epochs = 5\n",
        "pca_log_accs, pca_log_f1s = [], []\n",
        "\n",
        "print(\"🔄 Training PCA + Logistic Regression...\")\n",
        "\n",
        "for epoch in trange(pca_epochs, desc=\"Epochs\"):\n",
        "    pca = PCA(n_components=100)\n",
        "    X_train_pca = pca.fit_transform(X_train)\n",
        "    X_test_pca = pca.transform(X_test)\n",
        "    \n",
        "    model = LogisticRegression(max_iter=1000)\n",
        "    model.fit(X_train_pca, y_train)\n",
        "    \n",
        "    y_pred = model.predict(X_test_pca)\n",
        "    acc = accuracy_score(y_test, y_pred)\n",
        "    f1 = f1_score(y_test, y_pred, average='macro')\n",
        "    pca_log_accs.append(acc)\n",
        "    pca_log_f1s.append(f1)\n",
        "\n",
        "print(f\"\\n✅ Final PCA + Logistic Accuracy: {pca_log_accs[-1]:.4f}\")\n",
        "print(f\"✅ Final PCA + Logistic F1 Score: {pca_log_f1s[-1]:.4f}\")\n"
      ]
    },
    {
      "cell_type": "code",
      "execution_count": null,
      "metadata": {},
      "outputs": [
        {
          "name": "stdout",
          "output_type": "stream",
          "text": [
            "⚖️ Training Ensemble (Voting Classifier)...\n"
          ]
        },
        {
          "name": "stderr",
          "output_type": "stream",
          "text": [
            "Epochs: 100%|██████████| 1/1 [08:57<00:00, 537.48s/it]"
          ]
        },
        {
          "name": "stdout",
          "output_type": "stream",
          "text": [
            "\n",
            "✅ Final Ensemble Accuracy: 0.9625\n",
            "✅ Final Ensemble F1 Score: 0.9716\n"
          ]
        },
        {
          "name": "stderr",
          "output_type": "stream",
          "text": [
            "\n"
          ]
        }
      ],
      "source": [
        "ensemble_epochs = 1\n",
        "ens_accs, ens_f1s = [], []\n",
        "\n",
        "print(\"⚖️ Training Ensemble (Voting Classifier)...\")\n",
        "\n",
        "for epoch in trange(ensemble_epochs, desc=\"Epochs\"):\n",
        "    ensemble = VotingClassifier(\n",
        "        estimators=[\n",
        "            ('lr', LogisticRegression(max_iter=1000)),\n",
        "            ('rf', RandomForestClassifier(n_estimators=100))\n",
        "        ],\n",
        "        voting='soft'\n",
        "    )\n",
        "    ensemble.fit(X_train, y_train)\n",
        "    \n",
        "    y_pred = ensemble.predict(X_test)\n",
        "    acc = accuracy_score(y_test, y_pred)\n",
        "    f1 = f1_score(y_test, y_pred, average='macro')\n",
        "    ens_accs.append(acc)\n",
        "    ens_f1s.append(f1)\n",
        "\n",
        "print(f\"\\n✅ Final Ensemble Accuracy: {ens_accs[-1]:.4f}\")\n",
        "print(f\"✅ Final Ensemble F1 Score: {ens_f1s[-1]:.4f}\")\n"
      ]
    },
    {
      "cell_type": "code",
      "execution_count": null,
      "metadata": {},
      "outputs": [
        {
          "name": "stderr",
          "output_type": "stream",
          "text": [
            "C:\\Users\\samyo\\AppData\\Local\\Temp\\ipykernel_6900\\3519588885.py:28: UserWarning: Glyph 128202 (\\N{BAR CHART}) missing from font(s) DejaVu Sans.\n",
            "  plt.tight_layout()\n",
            "C:\\Users\\samyo\\AppData\\Roaming\\Python\\Python313\\site-packages\\IPython\\core\\pylabtools.py:170: UserWarning: Glyph 128202 (\\N{BAR CHART}) missing from font(s) DejaVu Sans.\n",
            "  fig.canvas.print_figure(bytes_io, **kw)\n"
          ]
        },
        {
          "data": {
            "image/png": "[encoded data removed]",
            "text/plain": [
              "<Figure size 1000x500 with 1 Axes>"
            ]
          },
          "metadata": {},
          "output_type": "display_data"
        }
      ],
      "source": [
        "log_acc = 0.88; log_f1 = 0.86\n",
        "rf_acc = 0.91; rf_f1 = 0.88\n",
        "pca_log_acc = 0.62; pca_log_f1 = 0.69\n",
        "ens_acc = 0.96; ens_f1 = 0.97\n",
        "cnn_acc = 0.96; cnn_f1 = 0.96\n",
        "\n",
        "# Now use them directly, not as lists\n",
        "models = ['LogReg', 'RandForest', 'PCA+Log', 'Ensemble', 'CNN']\n",
        "accs = [log_acc, rf_acc, pca_log_acc, ens_acc, cnn_acc]\n",
        "f1s = [log_f1, rf_f1, pca_log_f1, ens_f1, cnn_f1]\n",
        "\n",
        "x = np.arange(len(models))\n",
        "bar_width = 0.35\n",
        "\n",
        "plt.figure(figsize=(10, 5))\n",
        "plt.bar(x - bar_width/2, accs, bar_width, label='Accuracy', color='royalblue')\n",
        "plt.bar(x + bar_width/2, f1s, bar_width, label='F1 Score', color='salmon')\n",
        "\n",
        "plt.xticks(x, models)\n",
        "plt.ylabel(\"Score\")\n",
        "plt.title(\"📊 Model Comparison (Alzheimer's Image Classification)\")\n",
        "plt.legend()\n",
        "plt.grid(axis='y', linestyle='--', alpha=0.6)\n",
        "plt.tight_layout()\n",
        "plt.show()\n"
      ]
    }
  ],
  "metadata": {
    "accelerator": "GPU",
    "colab": {
      "gpuType": "T4",
      "provenance": []
    },
    "kernelspec": {
      "display_name": "Python 3",
      "name": "python3"
    },
    "language_info": {
      "codemirror_mode": {
        "name": "ipython",
        "version": 3
      },
      "file_extension": ".py",
      "mimetype": "text/x-python",
      "name": "python",
      "nbconvert_exporter": "python",
      "pygments_lexer": "ipython3",
      "version": "3.13.3"
    }
  },
  "nbformat": 4,
  "nbformat_minor": 0
}
